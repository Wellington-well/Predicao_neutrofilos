{
 "cells": [
  {
   "cell_type": "code",
   "execution_count": 1,
   "metadata": {},
   "outputs": [
    {
     "ename": "ImportError",
     "evalue": "libcusparseLt.so.0: cannot open shared object file: No such file or directory",
     "output_type": "error",
     "traceback": [
      "\u001b[31m---------------------------------------------------------------------------\u001b[39m",
      "\u001b[31mImportError\u001b[39m                               Traceback (most recent call last)",
      "\u001b[36mCell\u001b[39m\u001b[36m \u001b[39m\u001b[32mIn[1]\u001b[39m\u001b[32m, line 1\u001b[39m\n\u001b[32m----> \u001b[39m\u001b[32m1\u001b[39m \u001b[38;5;28;01mfrom\u001b[39;00m\u001b[38;5;250m \u001b[39m\u001b[34;01multralytics\u001b[39;00m\u001b[38;5;250m \u001b[39m\u001b[38;5;28;01mimport\u001b[39;00m YOLO\n",
      "\u001b[36mFile \u001b[39m\u001b[32m~/.local/lib/python3.12/site-packages/ultralytics/__init__.py:11\u001b[39m\n\u001b[32m      8\u001b[39m \u001b[38;5;28;01mif\u001b[39;00m \u001b[38;5;129;01mnot\u001b[39;00m os.environ.get(\u001b[33m\"\u001b[39m\u001b[33mOMP_NUM_THREADS\u001b[39m\u001b[33m\"\u001b[39m):\n\u001b[32m      9\u001b[39m     os.environ[\u001b[33m\"\u001b[39m\u001b[33mOMP_NUM_THREADS\u001b[39m\u001b[33m\"\u001b[39m] = \u001b[33m\"\u001b[39m\u001b[33m1\u001b[39m\u001b[33m\"\u001b[39m  \u001b[38;5;66;03m# default for reduced CPU utilization during training\u001b[39;00m\n\u001b[32m---> \u001b[39m\u001b[32m11\u001b[39m \u001b[38;5;28;01mfrom\u001b[39;00m\u001b[38;5;250m \u001b[39m\u001b[34;01multralytics\u001b[39;00m\u001b[34;01m.\u001b[39;00m\u001b[34;01mmodels\u001b[39;00m\u001b[38;5;250m \u001b[39m\u001b[38;5;28;01mimport\u001b[39;00m NAS, RTDETR, SAM, YOLO, YOLOE, FastSAM, YOLOWorld\n\u001b[32m     12\u001b[39m \u001b[38;5;28;01mfrom\u001b[39;00m\u001b[38;5;250m \u001b[39m\u001b[34;01multralytics\u001b[39;00m\u001b[34;01m.\u001b[39;00m\u001b[34;01mutils\u001b[39;00m\u001b[38;5;250m \u001b[39m\u001b[38;5;28;01mimport\u001b[39;00m ASSETS, SETTINGS\n\u001b[32m     13\u001b[39m \u001b[38;5;28;01mfrom\u001b[39;00m\u001b[38;5;250m \u001b[39m\u001b[34;01multralytics\u001b[39;00m\u001b[34;01m.\u001b[39;00m\u001b[34;01mutils\u001b[39;00m\u001b[34;01m.\u001b[39;00m\u001b[34;01mchecks\u001b[39;00m\u001b[38;5;250m \u001b[39m\u001b[38;5;28;01mimport\u001b[39;00m check_yolo \u001b[38;5;28;01mas\u001b[39;00m checks\n",
      "\u001b[36mFile \u001b[39m\u001b[32m~/.local/lib/python3.12/site-packages/ultralytics/models/__init__.py:3\u001b[39m\n\u001b[32m      1\u001b[39m \u001b[38;5;66;03m# Ultralytics 🚀 AGPL-3.0 License - https://ultralytics.com/license\u001b[39;00m\n\u001b[32m----> \u001b[39m\u001b[32m3\u001b[39m \u001b[38;5;28;01mfrom\u001b[39;00m\u001b[38;5;250m \u001b[39m\u001b[34;01m.\u001b[39;00m\u001b[34;01mfastsam\u001b[39;00m\u001b[38;5;250m \u001b[39m\u001b[38;5;28;01mimport\u001b[39;00m FastSAM\n\u001b[32m      4\u001b[39m \u001b[38;5;28;01mfrom\u001b[39;00m\u001b[38;5;250m \u001b[39m\u001b[34;01m.\u001b[39;00m\u001b[34;01mnas\u001b[39;00m\u001b[38;5;250m \u001b[39m\u001b[38;5;28;01mimport\u001b[39;00m NAS\n\u001b[32m      5\u001b[39m \u001b[38;5;28;01mfrom\u001b[39;00m\u001b[38;5;250m \u001b[39m\u001b[34;01m.\u001b[39;00m\u001b[34;01mrtdetr\u001b[39;00m\u001b[38;5;250m \u001b[39m\u001b[38;5;28;01mimport\u001b[39;00m RTDETR\n",
      "\u001b[36mFile \u001b[39m\u001b[32m~/.local/lib/python3.12/site-packages/ultralytics/models/fastsam/__init__.py:3\u001b[39m\n\u001b[32m      1\u001b[39m \u001b[38;5;66;03m# Ultralytics 🚀 AGPL-3.0 License - https://ultralytics.com/license\u001b[39;00m\n\u001b[32m----> \u001b[39m\u001b[32m3\u001b[39m \u001b[38;5;28;01mfrom\u001b[39;00m\u001b[38;5;250m \u001b[39m\u001b[34;01m.\u001b[39;00m\u001b[34;01mmodel\u001b[39;00m\u001b[38;5;250m \u001b[39m\u001b[38;5;28;01mimport\u001b[39;00m FastSAM\n\u001b[32m      4\u001b[39m \u001b[38;5;28;01mfrom\u001b[39;00m\u001b[38;5;250m \u001b[39m\u001b[34;01m.\u001b[39;00m\u001b[34;01mpredict\u001b[39;00m\u001b[38;5;250m \u001b[39m\u001b[38;5;28;01mimport\u001b[39;00m FastSAMPredictor\n\u001b[32m      5\u001b[39m \u001b[38;5;28;01mfrom\u001b[39;00m\u001b[38;5;250m \u001b[39m\u001b[34;01m.\u001b[39;00m\u001b[34;01mval\u001b[39;00m\u001b[38;5;250m \u001b[39m\u001b[38;5;28;01mimport\u001b[39;00m FastSAMValidator\n",
      "\u001b[36mFile \u001b[39m\u001b[32m~/.local/lib/python3.12/site-packages/ultralytics/models/fastsam/model.py:5\u001b[39m\n\u001b[32m      1\u001b[39m \u001b[38;5;66;03m# Ultralytics 🚀 AGPL-3.0 License - https://ultralytics.com/license\u001b[39;00m\n\u001b[32m      3\u001b[39m \u001b[38;5;28;01mfrom\u001b[39;00m\u001b[38;5;250m \u001b[39m\u001b[34;01mpathlib\u001b[39;00m\u001b[38;5;250m \u001b[39m\u001b[38;5;28;01mimport\u001b[39;00m Path\n\u001b[32m----> \u001b[39m\u001b[32m5\u001b[39m \u001b[38;5;28;01mfrom\u001b[39;00m\u001b[38;5;250m \u001b[39m\u001b[34;01multralytics\u001b[39;00m\u001b[34;01m.\u001b[39;00m\u001b[34;01mengine\u001b[39;00m\u001b[34;01m.\u001b[39;00m\u001b[34;01mmodel\u001b[39;00m\u001b[38;5;250m \u001b[39m\u001b[38;5;28;01mimport\u001b[39;00m Model\n\u001b[32m      7\u001b[39m \u001b[38;5;28;01mfrom\u001b[39;00m\u001b[38;5;250m \u001b[39m\u001b[34;01m.\u001b[39;00m\u001b[34;01mpredict\u001b[39;00m\u001b[38;5;250m \u001b[39m\u001b[38;5;28;01mimport\u001b[39;00m FastSAMPredictor\n\u001b[32m      8\u001b[39m \u001b[38;5;28;01mfrom\u001b[39;00m\u001b[38;5;250m \u001b[39m\u001b[34;01m.\u001b[39;00m\u001b[34;01mval\u001b[39;00m\u001b[38;5;250m \u001b[39m\u001b[38;5;28;01mimport\u001b[39;00m FastSAMValidator\n",
      "\u001b[36mFile \u001b[39m\u001b[32m~/.local/lib/python3.12/site-packages/ultralytics/engine/model.py:8\u001b[39m\n\u001b[32m      5\u001b[39m \u001b[38;5;28;01mfrom\u001b[39;00m\u001b[38;5;250m \u001b[39m\u001b[34;01mtyping\u001b[39;00m\u001b[38;5;250m \u001b[39m\u001b[38;5;28;01mimport\u001b[39;00m Any, Dict, List, Union\n\u001b[32m      7\u001b[39m \u001b[38;5;28;01mimport\u001b[39;00m\u001b[38;5;250m \u001b[39m\u001b[34;01mnumpy\u001b[39;00m\u001b[38;5;250m \u001b[39m\u001b[38;5;28;01mas\u001b[39;00m\u001b[38;5;250m \u001b[39m\u001b[34;01mnp\u001b[39;00m\n\u001b[32m----> \u001b[39m\u001b[32m8\u001b[39m \u001b[38;5;28;01mimport\u001b[39;00m\u001b[38;5;250m \u001b[39m\u001b[34;01mtorch\u001b[39;00m\n\u001b[32m      9\u001b[39m \u001b[38;5;28;01mfrom\u001b[39;00m\u001b[38;5;250m \u001b[39m\u001b[34;01mPIL\u001b[39;00m\u001b[38;5;250m \u001b[39m\u001b[38;5;28;01mimport\u001b[39;00m Image\n\u001b[32m     11\u001b[39m \u001b[38;5;28;01mfrom\u001b[39;00m\u001b[38;5;250m \u001b[39m\u001b[34;01multralytics\u001b[39;00m\u001b[34;01m.\u001b[39;00m\u001b[34;01mcfg\u001b[39;00m\u001b[38;5;250m \u001b[39m\u001b[38;5;28;01mimport\u001b[39;00m TASK2DATA, get_cfg, get_save_dir\n",
      "\u001b[36mFile \u001b[39m\u001b[32m~/.python/current/lib/python3.12/site-packages/torch/__init__.py:409\u001b[39m\n\u001b[32m    407\u001b[39m     \u001b[38;5;28;01mif\u001b[39;00m USE_GLOBAL_DEPS:\n\u001b[32m    408\u001b[39m         _load_global_deps()\n\u001b[32m--> \u001b[39m\u001b[32m409\u001b[39m     \u001b[38;5;28;01mfrom\u001b[39;00m\u001b[38;5;250m \u001b[39m\u001b[34;01mtorch\u001b[39;00m\u001b[34;01m.\u001b[39;00m\u001b[34;01m_C\u001b[39;00m\u001b[38;5;250m \u001b[39m\u001b[38;5;28;01mimport\u001b[39;00m *  \u001b[38;5;66;03m# noqa: F403\u001b[39;00m\n\u001b[32m    412\u001b[39m \u001b[38;5;28;01mclass\u001b[39;00m\u001b[38;5;250m \u001b[39m\u001b[34;01mSymInt\u001b[39;00m:\n\u001b[32m    413\u001b[39m \u001b[38;5;250m    \u001b[39m\u001b[33;03m\"\"\"\u001b[39;00m\n\u001b[32m    414\u001b[39m \u001b[33;03m    Like an int (including magic methods), but redirects all operations on the\u001b[39;00m\n\u001b[32m    415\u001b[39m \u001b[33;03m    wrapped node. This is used in particular to symbolically record operations\u001b[39;00m\n\u001b[32m    416\u001b[39m \u001b[33;03m    in the symbolic shape workflow.\u001b[39;00m\n\u001b[32m    417\u001b[39m \u001b[33;03m    \"\"\"\u001b[39;00m\n",
      "\u001b[31mImportError\u001b[39m: libcusparseLt.so.0: cannot open shared object file: No such file or directory"
     ]
    }
   ],
   "source": [
    "from ultralytics import YOLO"
   ]
  },
  {
   "cell_type": "code",
   "execution_count": 2,
   "metadata": {},
   "outputs": [
    {
     "ename": "NameError",
     "evalue": "name 'YOLO' is not defined",
     "output_type": "error",
     "traceback": [
      "\u001b[31m---------------------------------------------------------------------------\u001b[39m",
      "\u001b[31mNameError\u001b[39m                                 Traceback (most recent call last)",
      "\u001b[36mCell\u001b[39m\u001b[36m \u001b[39m\u001b[32mIn[2]\u001b[39m\u001b[32m, line 1\u001b[39m\n\u001b[32m----> \u001b[39m\u001b[32m1\u001b[39m model_treinado = \u001b[43mYOLO\u001b[49m(\u001b[33m\"\u001b[39m\u001b[33mruns/detect/train/weights/best.pt\u001b[39m\u001b[33m\"\u001b[39m)\n",
      "\u001b[31mNameError\u001b[39m: name 'YOLO' is not defined"
     ]
    }
   ],
   "source": [
    "model_treinado = YOLO(\"runs/detect/train/weights/best.pt\")\n"
   ]
  },
  {
   "cell_type": "code",
   "execution_count": 18,
   "metadata": {},
   "outputs": [
    {
     "name": "stdout",
     "output_type": "stream",
     "text": [
      "Ultralytics 8.3.134  Python-3.9.13 torch-2.7.0+cpu CPU (Intel Core(TM) i7-5500U 2.40GHz)\n",
      "\u001b[34m\u001b[1mval: \u001b[0mFast image access  (ping: 0.10.0 ms, read: 400.5117.9 MB/s, size: 55.9 KB)\n"
     ]
    },
    {
     "name": "stderr",
     "output_type": "stream",
     "text": [
      "\u001b[34m\u001b[1mval: \u001b[0mScanning C:\\Users\\User\\OneDrive - Claro SA\\Área de Trabalho\\notebook Dell\\Diogo Coisas pessoais\\Projetos\\tecvet2\\valid\\labels.cache... 29 images, 0 backgrounds, 0 corrupt: 100%|██████████| 29/29 [00:00<?, ?it/s]\n",
      "c:\\Users\\User\\anaconda3\\lib\\site-packages\\torch\\utils\\data\\dataloader.py:665: UserWarning: 'pin_memory' argument is set as true but no accelerator is found, then device pinned memory won't be used.\n",
      "  warnings.warn(warn_msg)\n",
      "                 Class     Images  Instances      Box(P          R      mAP50  mAP50-95): 100%|██████████| 2/2 [00:10<00:00,  5.31s/it]\n"
     ]
    },
    {
     "name": "stdout",
     "output_type": "stream",
     "text": [
      "                   all         29         57      0.908      0.895      0.962      0.687\n",
      "            Neutrofilo         29         57      0.908      0.895      0.962      0.687\n",
      "Speed: 12.8ms preprocess, 302.2ms inference, 0.0ms loss, 1.3ms postprocess per image\n",
      "Results saved to \u001b[1mruns\\detect\\val\u001b[0m\n"
     ]
    }
   ],
   "source": [
    "metrics = model_treinado.val()"
   ]
  },
  {
   "cell_type": "code",
   "execution_count": 25,
   "metadata": {},
   "outputs": [],
   "source": [
    "metricas = metrics"
   ]
  },
  {
   "cell_type": "code",
   "execution_count": 19,
   "metadata": {},
   "outputs": [
    {
     "name": "stdout",
     "output_type": "stream",
     "text": [
      "0.68734484314555\n",
      "0.9619069989812957\n",
      "0.9074361756390678\n"
     ]
    }
   ],
   "source": [
    "# Agora as métricas estarão disponíveis\n",
    "print(metrics.box.map)    # mAP50-95\n",
    "print(metrics.box.map50)  # mAP50\n",
    "print(metrics.box.map75)  # mAP75"
   ]
  },
  {
   "cell_type": "code",
   "execution_count": 26,
   "metadata": {},
   "outputs": [
    {
     "name": "stdout",
     "output_type": "stream",
     "text": [
      "F1score: 0.9010846475052794 e recall: 0.8947368421052632\n"
     ]
    }
   ],
   "source": [
    "print(f'F1score: {metricas.box.f1[0]} e recall: {metricas.box.r[0]}') "
   ]
  },
  {
   "cell_type": "code",
   "execution_count": 28,
   "metadata": {},
   "outputs": [
    {
     "name": "stdout",
     "output_type": "stream",
     "text": [
      "\n",
      "image 1/1 c:\\Users\\User\\OneDrive - Claro SA\\rea de Trabalho\\notebook Dell\\Diogo Coisas pessoais\\Projetos\\tecvet2\\toto.jpg: 384x640 2 Neutrofilos, 1804.8ms\n",
      "Speed: 11.3ms preprocess, 1804.8ms inference, 80.9ms postprocess per image at shape (1, 3, 384, 640)\n"
     ]
    }
   ],
   "source": [
    "resultado = model_treinado.predict('toto.jpg',conf = 0.2)"
   ]
  },
  {
   "cell_type": "code",
   "execution_count": 29,
   "metadata": {},
   "outputs": [
    {
     "data": {
      "text/plain": [
       "[ultralytics.engine.results.Results object with attributes:\n",
       " \n",
       " boxes: ultralytics.engine.results.Boxes object\n",
       " keypoints: None\n",
       " masks: None\n",
       " names: {0: 'Neutrofilo', 1: 'Neutrofilos'}\n",
       " obb: None\n",
       " orig_img: array([[[30, 27, 29],\n",
       "         [30, 27, 29],\n",
       "         [30, 27, 29],\n",
       "         ...,\n",
       "         [41, 58, 67],\n",
       "         [42, 59, 68],\n",
       "         [43, 60, 69]],\n",
       " \n",
       "        [[30, 27, 29],\n",
       "         [30, 27, 29],\n",
       "         [30, 27, 29],\n",
       "         ...,\n",
       "         [39, 56, 65],\n",
       "         [40, 57, 66],\n",
       "         [42, 59, 68]],\n",
       " \n",
       "        [[29, 26, 28],\n",
       "         [29, 26, 28],\n",
       "         [29, 26, 28],\n",
       "         ...,\n",
       "         [39, 56, 65],\n",
       "         [40, 57, 66],\n",
       "         [41, 58, 67]],\n",
       " \n",
       "        ...,\n",
       " \n",
       "        [[18, 20, 21],\n",
       "         [16, 18, 19],\n",
       "         [15, 17, 18],\n",
       "         ...,\n",
       "         [32, 49, 52],\n",
       "         [39, 56, 59],\n",
       "         [41, 58, 61]],\n",
       " \n",
       "        [[18, 20, 21],\n",
       "         [16, 18, 19],\n",
       "         [15, 17, 18],\n",
       "         ...,\n",
       "         [31, 48, 51],\n",
       "         [37, 54, 57],\n",
       "         [39, 56, 59]],\n",
       " \n",
       "        [[18, 20, 21],\n",
       "         [16, 18, 19],\n",
       "         [15, 17, 18],\n",
       "         ...,\n",
       "         [30, 47, 50],\n",
       "         [35, 52, 55],\n",
       "         [37, 54, 57]]], dtype=uint8)\n",
       " orig_shape: (900, 1600)\n",
       " path: 'c:\\\\Users\\\\User\\\\OneDrive - Claro SA\\\\Área de Trabalho\\\\notebook Dell\\\\Diogo Coisas pessoais\\\\Projetos\\\\tecvet2\\\\toto.jpg'\n",
       " probs: None\n",
       " save_dir: 'runs\\\\detect\\\\predict'\n",
       " speed: {'preprocess': 11.343499994836748, 'inference': 1804.763499996625, 'postprocess': 80.85669999127276}]"
      ]
     },
     "execution_count": 29,
     "metadata": {},
     "output_type": "execute_result"
    }
   ],
   "source": [
    "resultado"
   ]
  },
  {
   "cell_type": "code",
   "execution_count": 13,
   "metadata": {},
   "outputs": [],
   "source": [
    "def detectar(resultado):\n",
    "    # Supondo que 'resultado' seja seu objeto de resultado\n",
    "    for result in resultado:\n",
    "        # Extrair bounding boxes\n",
    "        boxes = result.boxes\n",
    "        \n",
    "        # Coordenadas no formato xyxy (pixels)\n",
    "        bboxes = boxes.xyxy.tolist()  # [[x1,y1,x2,y2], ...]\n",
    "        \n",
    "        # Scores de confiança\n",
    "        confidences = boxes.conf.tolist()  # [0.95, 0.87, ...]\n",
    "        \n",
    "        # IDs das classes\n",
    "        class_ids = boxes.cls.tolist()  # [0, 1, 0, ...]\n",
    "        \n",
    "        # Nomes das classes\n",
    "        class_names = [result.names[int(id)] for id in class_ids]\n",
    "        \n",
    "        # Imprimir todas detecções\n",
    "        for bbox, conf, cls_name in zip(bboxes, confidences, class_names):\n",
    "            print(f\"Detectado {cls_name} com confiança {conf:.2f} nas coordenadas {bbox}\")"
   ]
  },
  {
   "cell_type": "code",
   "execution_count": 30,
   "metadata": {},
   "outputs": [
    {
     "name": "stdout",
     "output_type": "stream",
     "text": [
      "ultralytics.engine.results.Results object with attributes:\n",
      "\n",
      "boxes: ultralytics.engine.results.Boxes object\n",
      "keypoints: None\n",
      "masks: None\n",
      "names: {0: 'Neutrofilo', 1: 'Neutrofilos'}\n",
      "obb: None\n",
      "orig_img: array([[[30, 27, 29],\n",
      "        [30, 27, 29],\n",
      "        [30, 27, 29],\n",
      "        ...,\n",
      "        [41, 58, 67],\n",
      "        [42, 59, 68],\n",
      "        [43, 60, 69]],\n",
      "\n",
      "       [[30, 27, 29],\n",
      "        [30, 27, 29],\n",
      "        [30, 27, 29],\n",
      "        ...,\n",
      "        [39, 56, 65],\n",
      "        [40, 57, 66],\n",
      "        [42, 59, 68]],\n",
      "\n",
      "       [[29, 26, 28],\n",
      "        [29, 26, 28],\n",
      "        [29, 26, 28],\n",
      "        ...,\n",
      "        [39, 56, 65],\n",
      "        [40, 57, 66],\n",
      "        [41, 58, 67]],\n",
      "\n",
      "       ...,\n",
      "\n",
      "       [[18, 20, 21],\n",
      "        [16, 18, 19],\n",
      "        [15, 17, 18],\n",
      "        ...,\n",
      "        [32, 49, 52],\n",
      "        [39, 56, 59],\n",
      "        [41, 58, 61]],\n",
      "\n",
      "       [[18, 20, 21],\n",
      "        [16, 18, 19],\n",
      "        [15, 17, 18],\n",
      "        ...,\n",
      "        [31, 48, 51],\n",
      "        [37, 54, 57],\n",
      "        [39, 56, 59]],\n",
      "\n",
      "       [[18, 20, 21],\n",
      "        [16, 18, 19],\n",
      "        [15, 17, 18],\n",
      "        ...,\n",
      "        [30, 47, 50],\n",
      "        [35, 52, 55],\n",
      "        [37, 54, 57]]], dtype=uint8)\n",
      "orig_shape: (900, 1600)\n",
      "path: 'c:\\\\Users\\\\User\\\\OneDrive - Claro SA\\\\Área de Trabalho\\\\notebook Dell\\\\Diogo Coisas pessoais\\\\Projetos\\\\tecvet2\\\\toto.jpg'\n",
      "probs: None\n",
      "save_dir: 'runs\\\\detect\\\\predict'\n",
      "speed: {'preprocess': 11.343499994836748, 'inference': 1804.763499996625, 'postprocess': 80.85669999127276}\n",
      "Detectado Neutrofilo com confiança 0.39 nas coordenadas [741.68115234375, 422.0250549316406, 802.1256103515625, 482.9387512207031]\n",
      "Detectado Neutrofilo com confiança 0.30 nas coordenadas [479.8940734863281, 467.222900390625, 532.5687866210938, 522.5656127929688]\n"
     ]
    }
   ],
   "source": [
    "# Supondo que 'resultado' seja seu objeto de resultado\n",
    "for result in resultado:\n",
    "\n",
    "    print(result)\n",
    "    # Extrair bounding boxes\n",
    "    boxes = result.boxes\n",
    "    \n",
    "    # Coordenadas no formato xyxy (pixels)\n",
    "    bboxes = boxes.xyxy.tolist()  # [[x1,y1,x2,y2], ...]\n",
    "    \n",
    "    # Scores de confiança\n",
    "    confidences = boxes.conf.tolist()  # [0.95, 0.87, ...]\n",
    "    \n",
    "    # IDs das classes\n",
    "    class_ids = boxes.cls.tolist()  # [0, 1, 0, ...]\n",
    "    \n",
    "    # Nomes das classes\n",
    "    class_names = [result.names[int(id)] for id in class_ids]\n",
    "    \n",
    "    # Imprimir todas detecções\n",
    "    for bbox, conf, cls_name in zip(bboxes, confidences, class_names):\n",
    "        print(f\"Detectado {cls_name} com confiança {conf:.2f} nas coordenadas {bbox}\")"
   ]
  },
  {
   "cell_type": "code",
   "execution_count": 10,
   "metadata": {},
   "outputs": [
    {
     "data": {
      "text/plain": [
       "[ultralytics.engine.results.Results object with attributes:\n",
       " \n",
       " boxes: ultralytics.engine.results.Boxes object\n",
       " keypoints: None\n",
       " masks: None\n",
       " names: {0: 'Neutrofilo', 1: 'Neutrofilos'}\n",
       " obb: None\n",
       " orig_img: array([[[47, 49, 49],\n",
       "         [46, 48, 48],\n",
       "         [45, 47, 47],\n",
       "         ...,\n",
       "         [40, 43, 41],\n",
       "         [41, 44, 42],\n",
       "         [42, 45, 43]],\n",
       " \n",
       "        [[48, 50, 50],\n",
       "         [47, 49, 49],\n",
       "         [45, 47, 47],\n",
       "         ...,\n",
       "         [40, 43, 41],\n",
       "         [41, 44, 42],\n",
       "         [42, 45, 43]],\n",
       " \n",
       "        [[47, 49, 49],\n",
       "         [46, 48, 48],\n",
       "         [45, 47, 47],\n",
       "         ...,\n",
       "         [42, 45, 43],\n",
       "         [43, 46, 44],\n",
       "         [44, 47, 45]],\n",
       " \n",
       "        ...,\n",
       " \n",
       "        [[21, 23, 24],\n",
       "         [21, 23, 24],\n",
       "         [21, 23, 24],\n",
       "         ...,\n",
       "         [23, 32, 29],\n",
       "         [22, 31, 28],\n",
       "         [22, 31, 28]],\n",
       " \n",
       "        [[20, 22, 23],\n",
       "         [20, 22, 23],\n",
       "         [20, 22, 23],\n",
       "         ...,\n",
       "         [23, 32, 29],\n",
       "         [23, 32, 29],\n",
       "         [25, 34, 31]],\n",
       " \n",
       "        [[18, 20, 21],\n",
       "         [18, 20, 21],\n",
       "         [18, 20, 21],\n",
       "         ...,\n",
       "         [20, 29, 26],\n",
       "         [22, 31, 28],\n",
       "         [24, 33, 30]]], dtype=uint8)\n",
       " orig_shape: (1600, 900)\n",
       " path: 'c:\\\\Users\\\\User\\\\OneDrive - Claro SA\\\\Área de Trabalho\\\\notebook Dell\\\\Diogo Coisas pessoais\\\\Projetos\\\\tecvet2\\\\foto.jpeg'\n",
       " probs: None\n",
       " save_dir: 'runs\\\\detect\\\\predict'\n",
       " speed: {'preprocess': 10.097900000118898, 'inference': 183.44279999996616, 'postprocess': 0.9672000001046399}]"
      ]
     },
     "execution_count": 10,
     "metadata": {},
     "output_type": "execute_result"
    }
   ],
   "source": [
    "resultado"
   ]
  },
  {
   "cell_type": "code",
   "execution_count": 31,
   "metadata": {},
   "outputs": [],
   "source": [
    "from PIL import Image\n",
    "\n",
    "# Mostrar imagem com anotações\n",
    "res_img = resultado[0].plot()  # Gera imagem com bboxes\n",
    "Image.fromarray(res_img).show()\n"
   ]
  },
  {
   "cell_type": "code",
   "execution_count": null,
   "metadata": {},
   "outputs": [],
   "source": [
    "# Ou salvar\n",
    "results[0].save(\"resultado.jpg\")"
   ]
  },
  {
   "cell_type": "code",
   "execution_count": 27,
   "metadata": {},
   "outputs": [
    {
     "ename": "NameError",
     "evalue": "name 'model' is not defined",
     "output_type": "error",
     "traceback": [
      "\u001b[1;31m---------------------------------------------------------------------------\u001b[0m",
      "\u001b[1;31mNameError\u001b[0m                                 Traceback (most recent call last)",
      "\u001b[1;32m~\\AppData\\Local\\Temp\\ipykernel_18540\\319709938.py\u001b[0m in \u001b[0;36m<module>\u001b[1;34m\u001b[0m\n\u001b[0;32m      1\u001b[0m \u001b[1;31m# Faça inferência\u001b[0m\u001b[1;33m\u001b[0m\u001b[1;33m\u001b[0m\u001b[0m\n\u001b[1;32m----> 2\u001b[1;33m \u001b[0mresults\u001b[0m \u001b[1;33m=\u001b[0m \u001b[0mmodel\u001b[0m\u001b[1;33m.\u001b[0m\u001b[0mpredict\u001b[0m\u001b[1;33m(\u001b[0m\u001b[1;34m\"toto.jpg\"\u001b[0m\u001b[1;33m,\u001b[0m \u001b[0mconf\u001b[0m\u001b[1;33m=\u001b[0m\u001b[1;36m0.5\u001b[0m\u001b[1;33m)\u001b[0m  \u001b[1;31m# conf = limiar de confiança\u001b[0m\u001b[1;33m\u001b[0m\u001b[1;33m\u001b[0m\u001b[0m\n\u001b[0m\u001b[0;32m      3\u001b[0m \u001b[0mresults\u001b[0m\u001b[1;33m[\u001b[0m\u001b[1;36m0\u001b[0m\u001b[1;33m]\u001b[0m\u001b[1;33m.\u001b[0m\u001b[0mshow\u001b[0m\u001b[1;33m(\u001b[0m\u001b[1;33m)\u001b[0m  \u001b[1;31m# Mostra os resultados\u001b[0m\u001b[1;33m\u001b[0m\u001b[1;33m\u001b[0m\u001b[0m\n",
      "\u001b[1;31mNameError\u001b[0m: name 'model' is not defined"
     ]
    }
   ],
   "source": [
    "# Faça inferência\n",
    "results = model_treinado.predict(\"toto.jpg\", conf=0.5)  # conf = limiar de confiança\n",
    "results[0].show()  # Mostra os resultados"
   ]
  },
  {
   "cell_type": "code",
   "execution_count": 40,
   "metadata": {},
   "outputs": [
    {
     "name": "stdout",
     "output_type": "stream",
     "text": [
      "\n",
      "image 1/1 c:\\Users\\User\\OneDrive - Claro SA\\rea de Trabalho\\notebook Dell\\Diogo Coisas pessoais\\Projetos\\tecvet2\\foto4.jpg: 640x384 (no detections), 403.5ms\n",
      "Speed: 71.9ms preprocess, 403.5ms inference, 1.9ms postprocess per image at shape (1, 3, 640, 384)\n"
     ]
    }
   ],
   "source": [
    "Image.fromarray(model_treinado.predict('foto4.jpg',conf = 0.05)[0].plot()).show()"
   ]
  },
  {
   "cell_type": "code",
   "execution_count": null,
   "metadata": {},
   "outputs": [],
   "source": []
  }
 ],
 "metadata": {
  "kernelspec": {
   "display_name": "Python 3",
   "language": "python",
   "name": "python3"
  },
  "language_info": {
   "codemirror_mode": {
    "name": "ipython",
    "version": 3
   },
   "file_extension": ".py",
   "mimetype": "text/x-python",
   "name": "python",
   "nbconvert_exporter": "python",
   "pygments_lexer": "ipython3",
   "version": "3.12.1"
  }
 },
 "nbformat": 4,
 "nbformat_minor": 2
}
